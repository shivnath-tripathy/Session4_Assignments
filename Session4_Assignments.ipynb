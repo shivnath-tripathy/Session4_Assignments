{
 "cells": [
  {
   "cell_type": "code",
   "execution_count": 44,
   "metadata": {},
   "outputs": [
    {
     "name": "stdout",
     "output_type": "stream",
     "text": [
      "13.5\n",
      "584.71875\n"
     ]
    }
   ],
   "source": [
    "class Shape:\n",
    "    def __init__(self, sideA, sideB, sideC):\n",
    "        self.a = sideA\n",
    "        self.b = sideB\n",
    "        self.c = sideC\n",
    "        self.s = (sideA+sideB+sideC)/2\n",
    "        \n",
    "class Triangle (Shape):\n",
    "    def __init__(self, Shape):\n",
    "        self.a = Shape.a\n",
    "        self.b = Shape.b\n",
    "        self.c = Shape.c\n",
    "        self.s= (self.a+self.b+self.c)/2\n",
    "    def GetAreaOfTriangle(self):\n",
    "        return (self.s*(self.s-self.a)*(self.s- self.b)*(self.s-self.c)) * 0.5\n",
    "shape = Shape(8,9,10) \n",
    "print (shape.s)\n",
    "triangle= Triangle (shape)\n",
    "print (triangle.GetAreaOfTriangle())"
   ]
  },
  {
   "cell_type": "code",
   "execution_count": 54,
   "metadata": {},
   "outputs": [
    {
     "data": {
      "text/plain": [
       "['I am there', 'Whole year ahead']"
      ]
     },
     "execution_count": 54,
     "metadata": {},
     "output_type": "execute_result"
    }
   ],
   "source": [
    "def ListOfLongestStrings(wordList, length):\n",
    "    longestWord=\"\"\n",
    "    longestWordLength=0;\n",
    "    newList = list()\n",
    "    for i in wordList:        \n",
    "        if (longestWordLength<len(i) and  len(i)>length):\n",
    "            longestWordLength=len(i)\n",
    "            longestWord=i\n",
    "            newList.append(longestWord)\n",
    "    return newList\n",
    "    \n",
    "words=[\"I am there\",\"You\",\"Whole year ahead\"] \n",
    "ListOfLongestStrings(words, 3)"
   ]
  },
  {
   "cell_type": "code",
   "execution_count": null,
   "metadata": {
    "collapsed": true
   },
   "outputs": [],
   "source": []
  }
 ],
 "metadata": {
  "kernelspec": {
   "display_name": "Python 3",
   "language": "python",
   "name": "python3"
  },
  "language_info": {
   "codemirror_mode": {
    "name": "ipython",
    "version": 3
   },
   "file_extension": ".py",
   "mimetype": "text/x-python",
   "name": "python",
   "nbconvert_exporter": "python",
   "pygments_lexer": "ipython3",
   "version": "3.6.3"
  }
 },
 "nbformat": 4,
 "nbformat_minor": 2
}
